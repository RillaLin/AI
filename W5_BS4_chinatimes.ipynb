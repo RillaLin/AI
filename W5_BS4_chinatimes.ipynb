{
 "cells": [
  {
   "cell_type": "code",
   "execution_count": 21,
   "metadata": {},
   "outputs": [
    {
     "name": "stdout",
     "output_type": "stream",
     "text": [
      "馬英九台北市長政績如何？資料一攤開酸民全傻了 - 政治\n",
      "網址https://www.chinatimes.com/realtimenews/20201014001824-260407?ctrack=mo_main_hot_p01\n",
      "\n",
      "罷韓後高雄變冷清？他「1張空拍圖」曝現況 網大驚 - 政治\n",
      "網址https://www.chinatimes.com/realtimenews/20201013005450-260407?ctrack=mo_main_hot_p02\n",
      "\n",
      "韓國瑜手上握有「最強血滴子」？軍校校友會理事長不藏了 - 政治\n",
      "網址https://www.chinatimes.com/realtimenews/20201014002371-260407?ctrack=mo_main_hot_p03\n",
      "\n",
      "林子祥73歲近況曝光 生日同框愛妻葉蒨文「竟像父女」 - 娛樂\n",
      "網址https://www.chinatimes.com/realtimenews/20201013003240-260404?ctrack=mo_main_hot_p04\n",
      "\n",
      "得知韓國瑜確定被罷免 李四川立刻做了這件事 - 政治\n",
      "網址https://www.chinatimes.com/realtimenews/20201014001381-260407?ctrack=mo_main_hot_p05\n",
      "\n",
      "韓國瑜留下爛攤子？黃捷要高雄對「這55位孩子」負責 - 政治\n",
      "網址https://www.chinatimes.com/realtimenews/20201014001466-260407?ctrack=mo_main_hot_p06\n",
      "\n",
      "2020美大選》最新民調：拜登領先川普17百分點 川普最自豪政績也輸 - 美大選\n",
      "網址https://www.chinatimes.com/realtimenews/20201014003231-260408?ctrack=mo_main_hot_p07\n",
      "\n",
      "藍中常委提案設專案小組監督中天審照 江啟臣裁示研議規劃\n",
      "網址https://www.chinatimes.com/realtimenews/20201014004239-260407?ctrack=mo_main_rtime_p01\n",
      "\n",
      "不只大吼會「燒聲」 其實低聲細語 也非常傷喉嚨\n",
      "網址https://www.chinatimes.com/realtimenews/20201014004211-260418?ctrack=mo_main_rtime_p02\n",
      "\n",
      "西螺大橋藝陣文化祭23日登場 七崁武術師父展功夫\n",
      "網址https://www.chinatimes.com/realtimenews/20201014004250-260421?ctrack=mo_main_rtime_p03\n",
      "\n",
      "金門清代古厝修復 規畫開民宿說故事\n",
      "網址https://www.chinatimes.com/realtimenews/20201014004259-260405?ctrack=mo_main_rtime_p04\n",
      "\n",
      "娛樂記者誆可低價代購名牌 詐騙近千萬遭重判\n",
      "網址https://www.chinatimes.com/realtimenews/20201014004241-260404?ctrack=mo_main_rtime_p05\n",
      "\n",
      "性感正妹秀爆乳內衣 上空露「兩大團」網驚呆狂掉下巴\n",
      "網址https://www.chinatimes.com/realtimenews/20201014004206-260402?ctrack=mo_main_rtime_p06\n",
      "\n",
      "若疫情持續 經濟復甦慢 IMF警告：股市恐將大跌\n",
      "網址https://www.chinatimes.com/realtimenews/20201014004247-260410?ctrack=mo_main_rtime_p07\n",
      "\n",
      "台灣大宣布 16日晚上8點開放i12預購\n",
      "網址https://www.chinatimes.com/realtimenews/20201014004212-260410?ctrack=mo_main_rtime_p08\n",
      "\n",
      "研華攜手承業醫 合攻智慧醫療\n",
      "網址https://www.chinatimes.com/realtimenews/20201014004213-260410?ctrack=mo_main_rtime_p09\n",
      "\n",
      "細肩帶美魔女4點晨跑 慘遭小一半惡狼性侵「濃稠子孫」抹臉\n",
      "網址https://www.chinatimes.com/realtimenews/20201014004180-260402?ctrack=mo_main_rtime_p10\n",
      "\n",
      "信義房屋獲天下企業公民獎大型企業前三強 社會參與分...\n",
      "網址https://www.chinatimes.com/realtimenews/20200904004695-260410?chdtv\n",
      "\n",
      "人才培育兼重專業與品德 信義房屋屢獲國內外CSR獎肯定\n",
      "網址https://www.chinatimes.com/realtimenews/20201003000013-260410\n",
      "\n",
      "信義房屋「信義徵幸福」短片網路票選 人氣最高可得1萬...\n",
      "網址https://www.chinatimes.com/realtimenews/20200806003809-260410?chdtv\n",
      "\n",
      "響應環保、支持小農 信義房屋普渡送平安米為社區祈福\n",
      "網址https://www.chinatimes.com/realtimenews/20200908001699-260410\n",
      "\n",
      "旺House》 房市真的回溫了！內政部鐵證曝光\n",
      "網址https://www.chinatimes.com/realtimenews/20200825005901-260410\n",
      "\n",
      "旺House》 電商衝擊！投資億元店面下場超慘\n",
      "網址https://www.chinatimes.com/realtimenews/20200825005000-260410\n",
      "\n",
      "旺House》【崴爺愛看房】捷運公園宅潛力股！移居、宜...\n",
      "網址https://www.chinatimes.com/realtimenews/20200825000013-260410\n",
      "\n",
      "旺House》必選「合雄5號花園」，超值入主桃園司法特區\n",
      "網址https://www.chinatimes.com/realtimenews/20200825001596-260410\n",
      "\n"
     ]
    }
   ],
   "source": [
    "# Chinatimes頭條新聞\n",
    "import requests\n",
    "from bs4 import BeautifulSoup\n",
    "\n",
    "# 下載 Chinatimes 首頁內容\n",
    "url = 'https://www.chinatimes.com/'\n",
    "r = requests.get(url)\n",
    "\n",
    "# 確認是否下載成功\n",
    "if r.status_code == requests.codes.ok:\n",
    "  # 以 BeautifulSoup 解析 HTML 程式碼\n",
    "  soup = BeautifulSoup(r.text, 'html.parser')\n",
    "\n",
    "  # 以 CSS 的 class 抓出各類頭條新聞\n",
    "  \n",
    "  titles = soup.find_all(\"h4\",class_='title')\n",
    "  for title in titles:\n",
    "    print(title.select_one(\"a\").text)\n",
    "    print('網址'+title.select_one(\"a\").get(\"href\")+'\\n')\n",
    "    \n",
    "\n",
    "  \n",
    "# 讀取所有 <b>的標籤內容\n",
    "#print(soup.find('b'))\n",
    "\n",
    "#讀取所有<a>的標籤內容\n",
    "#print(soup.find_all('a'))"
   ]
  },
  {
   "cell_type": "code",
   "execution_count": null,
   "metadata": {},
   "outputs": [],
   "source": []
  },
  {
   "cell_type": "code",
   "execution_count": null,
   "metadata": {},
   "outputs": [],
   "source": []
  },
  {
   "cell_type": "code",
   "execution_count": null,
   "metadata": {},
   "outputs": [],
   "source": []
  },
  {
   "cell_type": "code",
   "execution_count": null,
   "metadata": {},
   "outputs": [],
   "source": []
  },
  {
   "cell_type": "code",
   "execution_count": null,
   "metadata": {},
   "outputs": [],
   "source": []
  },
  {
   "cell_type": "code",
   "execution_count": null,
   "metadata": {},
   "outputs": [],
   "source": []
  },
  {
   "cell_type": "code",
   "execution_count": null,
   "metadata": {},
   "outputs": [],
   "source": []
  },
  {
   "cell_type": "code",
   "execution_count": null,
   "metadata": {},
   "outputs": [],
   "source": []
  },
  {
   "cell_type": "code",
   "execution_count": null,
   "metadata": {},
   "outputs": [],
   "source": []
  },
  {
   "cell_type": "code",
   "execution_count": null,
   "metadata": {},
   "outputs": [],
   "source": []
  },
  {
   "cell_type": "code",
   "execution_count": null,
   "metadata": {},
   "outputs": [],
   "source": []
  },
  {
   "cell_type": "code",
   "execution_count": null,
   "metadata": {},
   "outputs": [],
   "source": []
  },
  {
   "cell_type": "code",
   "execution_count": null,
   "metadata": {},
   "outputs": [],
   "source": []
  },
  {
   "cell_type": "code",
   "execution_count": null,
   "metadata": {},
   "outputs": [],
   "source": []
  }
 ],
 "metadata": {
  "kernelspec": {
   "display_name": "Python 3",
   "language": "python",
   "name": "python3"
  },
  "language_info": {
   "codemirror_mode": {
    "name": "ipython",
    "version": 3
   },
   "file_extension": ".py",
   "mimetype": "text/x-python",
   "name": "python",
   "nbconvert_exporter": "python",
   "pygments_lexer": "ipython3",
   "version": "3.8.5"
  }
 },
 "nbformat": 4,
 "nbformat_minor": 4
}
